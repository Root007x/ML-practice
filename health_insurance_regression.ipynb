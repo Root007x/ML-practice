{
 "cells": [
  {
   "cell_type": "markdown",
   "id": "0073da5b",
   "metadata": {},
   "source": [
    "## Health insurence Prediction"
   ]
  },
  {
   "cell_type": "code",
   "execution_count": 2,
   "id": "5b423a40",
   "metadata": {},
   "outputs": [],
   "source": [
    "import numpy as np\n",
    "import pandas as pd\n",
    "import matplotlib.pyplot as plt\n",
    "import seaborn as sns\n",
    "from sklearn.model_selection import train_test_split\n",
    "from sklearn.metrics import mean_squared_error, mean_absolute_error,r2_score\n"
   ]
  },
  {
   "cell_type": "markdown",
   "id": "c1be80a9",
   "metadata": {},
   "source": [
    "## Load Data"
   ]
  },
  {
   "cell_type": "code",
   "execution_count": 15,
   "id": "902e8f3a",
   "metadata": {},
   "outputs": [
    {
     "data": {
      "text/plain": [
       "(1338, 7)"
      ]
     },
     "execution_count": 15,
     "metadata": {},
     "output_type": "execute_result"
    }
   ],
   "source": [
    "df = pd.read_csv(\"datasheet/health_insurance.csv\")\n",
    "df.shape # (rows,colums)"
   ]
  },
  {
   "cell_type": "code",
   "execution_count": 16,
   "id": "56d3e1af",
   "metadata": {},
   "outputs": [
    {
     "name": "stdout",
     "output_type": "stream",
     "text": [
      "<class 'pandas.core.frame.DataFrame'>\n",
      "RangeIndex: 1338 entries, 0 to 1337\n",
      "Data columns (total 7 columns):\n",
      " #   Column    Non-Null Count  Dtype  \n",
      "---  ------    --------------  -----  \n",
      " 0   age       1338 non-null   int64  \n",
      " 1   sex       1338 non-null   object \n",
      " 2   bmi       1338 non-null   float64\n",
      " 3   children  1338 non-null   int64  \n",
      " 4   smoker    1338 non-null   object \n",
      " 5   region    1338 non-null   object \n",
      " 6   charges   1338 non-null   float64\n",
      "dtypes: float64(2), int64(2), object(3)\n",
      "memory usage: 73.3+ KB\n"
     ]
    }
   ],
   "source": [
    "df.info()"
   ]
  },
  {
   "cell_type": "code",
   "execution_count": 17,
   "id": "de9c8a7e",
   "metadata": {},
   "outputs": [
    {
     "data": {
      "text/html": [
       "<div>\n",
       "<style scoped>\n",
       "    .dataframe tbody tr th:only-of-type {\n",
       "        vertical-align: middle;\n",
       "    }\n",
       "\n",
       "    .dataframe tbody tr th {\n",
       "        vertical-align: top;\n",
       "    }\n",
       "\n",
       "    .dataframe thead th {\n",
       "        text-align: right;\n",
       "    }\n",
       "</style>\n",
       "<table border=\"1\" class=\"dataframe\">\n",
       "  <thead>\n",
       "    <tr style=\"text-align: right;\">\n",
       "      <th></th>\n",
       "      <th>age</th>\n",
       "      <th>sex</th>\n",
       "      <th>bmi</th>\n",
       "      <th>children</th>\n",
       "      <th>smoker</th>\n",
       "      <th>region</th>\n",
       "      <th>charges</th>\n",
       "    </tr>\n",
       "  </thead>\n",
       "  <tbody>\n",
       "    <tr>\n",
       "      <th>0</th>\n",
       "      <td>19</td>\n",
       "      <td>female</td>\n",
       "      <td>27.900</td>\n",
       "      <td>0</td>\n",
       "      <td>yes</td>\n",
       "      <td>southwest</td>\n",
       "      <td>16884.92400</td>\n",
       "    </tr>\n",
       "    <tr>\n",
       "      <th>1</th>\n",
       "      <td>18</td>\n",
       "      <td>male</td>\n",
       "      <td>33.770</td>\n",
       "      <td>1</td>\n",
       "      <td>no</td>\n",
       "      <td>southeast</td>\n",
       "      <td>1725.55230</td>\n",
       "    </tr>\n",
       "    <tr>\n",
       "      <th>2</th>\n",
       "      <td>28</td>\n",
       "      <td>male</td>\n",
       "      <td>33.000</td>\n",
       "      <td>3</td>\n",
       "      <td>no</td>\n",
       "      <td>southeast</td>\n",
       "      <td>4449.46200</td>\n",
       "    </tr>\n",
       "    <tr>\n",
       "      <th>3</th>\n",
       "      <td>33</td>\n",
       "      <td>male</td>\n",
       "      <td>22.705</td>\n",
       "      <td>0</td>\n",
       "      <td>no</td>\n",
       "      <td>northwest</td>\n",
       "      <td>21984.47061</td>\n",
       "    </tr>\n",
       "    <tr>\n",
       "      <th>4</th>\n",
       "      <td>32</td>\n",
       "      <td>male</td>\n",
       "      <td>28.880</td>\n",
       "      <td>0</td>\n",
       "      <td>no</td>\n",
       "      <td>northwest</td>\n",
       "      <td>3866.85520</td>\n",
       "    </tr>\n",
       "    <tr>\n",
       "      <th>5</th>\n",
       "      <td>31</td>\n",
       "      <td>female</td>\n",
       "      <td>25.740</td>\n",
       "      <td>0</td>\n",
       "      <td>no</td>\n",
       "      <td>southeast</td>\n",
       "      <td>3756.62160</td>\n",
       "    </tr>\n",
       "    <tr>\n",
       "      <th>6</th>\n",
       "      <td>46</td>\n",
       "      <td>female</td>\n",
       "      <td>33.440</td>\n",
       "      <td>1</td>\n",
       "      <td>no</td>\n",
       "      <td>southeast</td>\n",
       "      <td>8240.58960</td>\n",
       "    </tr>\n",
       "    <tr>\n",
       "      <th>7</th>\n",
       "      <td>37</td>\n",
       "      <td>female</td>\n",
       "      <td>27.740</td>\n",
       "      <td>3</td>\n",
       "      <td>no</td>\n",
       "      <td>northwest</td>\n",
       "      <td>7281.50560</td>\n",
       "    </tr>\n",
       "    <tr>\n",
       "      <th>8</th>\n",
       "      <td>37</td>\n",
       "      <td>male</td>\n",
       "      <td>29.830</td>\n",
       "      <td>2</td>\n",
       "      <td>no</td>\n",
       "      <td>northeast</td>\n",
       "      <td>6406.41070</td>\n",
       "    </tr>\n",
       "    <tr>\n",
       "      <th>9</th>\n",
       "      <td>60</td>\n",
       "      <td>female</td>\n",
       "      <td>25.840</td>\n",
       "      <td>0</td>\n",
       "      <td>no</td>\n",
       "      <td>northwest</td>\n",
       "      <td>28923.13692</td>\n",
       "    </tr>\n",
       "  </tbody>\n",
       "</table>\n",
       "</div>"
      ],
      "text/plain": [
       "   age     sex     bmi  children smoker     region      charges\n",
       "0   19  female  27.900         0    yes  southwest  16884.92400\n",
       "1   18    male  33.770         1     no  southeast   1725.55230\n",
       "2   28    male  33.000         3     no  southeast   4449.46200\n",
       "3   33    male  22.705         0     no  northwest  21984.47061\n",
       "4   32    male  28.880         0     no  northwest   3866.85520\n",
       "5   31  female  25.740         0     no  southeast   3756.62160\n",
       "6   46  female  33.440         1     no  southeast   8240.58960\n",
       "7   37  female  27.740         3     no  northwest   7281.50560\n",
       "8   37    male  29.830         2     no  northeast   6406.41070\n",
       "9   60  female  25.840         0     no  northwest  28923.13692"
      ]
     },
     "execution_count": 17,
     "metadata": {},
     "output_type": "execute_result"
    }
   ],
   "source": [
    "df.head(10)"
   ]
  },
  {
   "cell_type": "code",
   "execution_count": 18,
   "id": "6ae7d12a",
   "metadata": {},
   "outputs": [
    {
     "data": {
      "text/plain": [
       "age         0\n",
       "sex         0\n",
       "bmi         0\n",
       "children    0\n",
       "smoker      0\n",
       "region      0\n",
       "charges     0\n",
       "dtype: int64"
      ]
     },
     "execution_count": 18,
     "metadata": {},
     "output_type": "execute_result"
    }
   ],
   "source": [
    "# Are there any missing values\n",
    "df.isna().sum()"
   ]
  },
  {
   "cell_type": "code",
   "execution_count": 19,
   "id": "614292a8",
   "metadata": {},
   "outputs": [
    {
     "data": {
      "text/html": [
       "<div>\n",
       "<style scoped>\n",
       "    .dataframe tbody tr th:only-of-type {\n",
       "        vertical-align: middle;\n",
       "    }\n",
       "\n",
       "    .dataframe tbody tr th {\n",
       "        vertical-align: top;\n",
       "    }\n",
       "\n",
       "    .dataframe thead th {\n",
       "        text-align: right;\n",
       "    }\n",
       "</style>\n",
       "<table border=\"1\" class=\"dataframe\">\n",
       "  <thead>\n",
       "    <tr style=\"text-align: right;\">\n",
       "      <th></th>\n",
       "      <th>age</th>\n",
       "      <th>bmi</th>\n",
       "      <th>children</th>\n",
       "      <th>charges</th>\n",
       "    </tr>\n",
       "  </thead>\n",
       "  <tbody>\n",
       "    <tr>\n",
       "      <th>count</th>\n",
       "      <td>1338.000000</td>\n",
       "      <td>1338.000000</td>\n",
       "      <td>1338.000000</td>\n",
       "      <td>1338.000000</td>\n",
       "    </tr>\n",
       "    <tr>\n",
       "      <th>mean</th>\n",
       "      <td>39.207025</td>\n",
       "      <td>30.663397</td>\n",
       "      <td>1.094918</td>\n",
       "      <td>13270.422265</td>\n",
       "    </tr>\n",
       "    <tr>\n",
       "      <th>std</th>\n",
       "      <td>14.049960</td>\n",
       "      <td>6.098187</td>\n",
       "      <td>1.205493</td>\n",
       "      <td>12110.011237</td>\n",
       "    </tr>\n",
       "    <tr>\n",
       "      <th>min</th>\n",
       "      <td>18.000000</td>\n",
       "      <td>15.960000</td>\n",
       "      <td>0.000000</td>\n",
       "      <td>1121.873900</td>\n",
       "    </tr>\n",
       "    <tr>\n",
       "      <th>25%</th>\n",
       "      <td>27.000000</td>\n",
       "      <td>26.296250</td>\n",
       "      <td>0.000000</td>\n",
       "      <td>4740.287150</td>\n",
       "    </tr>\n",
       "    <tr>\n",
       "      <th>50%</th>\n",
       "      <td>39.000000</td>\n",
       "      <td>30.400000</td>\n",
       "      <td>1.000000</td>\n",
       "      <td>9382.033000</td>\n",
       "    </tr>\n",
       "    <tr>\n",
       "      <th>75%</th>\n",
       "      <td>51.000000</td>\n",
       "      <td>34.693750</td>\n",
       "      <td>2.000000</td>\n",
       "      <td>16639.912515</td>\n",
       "    </tr>\n",
       "    <tr>\n",
       "      <th>max</th>\n",
       "      <td>64.000000</td>\n",
       "      <td>53.130000</td>\n",
       "      <td>5.000000</td>\n",
       "      <td>63770.428010</td>\n",
       "    </tr>\n",
       "  </tbody>\n",
       "</table>\n",
       "</div>"
      ],
      "text/plain": [
       "               age          bmi     children       charges\n",
       "count  1338.000000  1338.000000  1338.000000   1338.000000\n",
       "mean     39.207025    30.663397     1.094918  13270.422265\n",
       "std      14.049960     6.098187     1.205493  12110.011237\n",
       "min      18.000000    15.960000     0.000000   1121.873900\n",
       "25%      27.000000    26.296250     0.000000   4740.287150\n",
       "50%      39.000000    30.400000     1.000000   9382.033000\n",
       "75%      51.000000    34.693750     2.000000  16639.912515\n",
       "max      64.000000    53.130000     5.000000  63770.428010"
      ]
     },
     "execution_count": 19,
     "metadata": {},
     "output_type": "execute_result"
    }
   ],
   "source": [
    "df.describe()"
   ]
  },
  {
   "cell_type": "code",
   "execution_count": 20,
   "id": "b290f461",
   "metadata": {},
   "outputs": [
    {
     "data": {
      "text/plain": [
       "sex\n",
       "male      676\n",
       "female    662\n",
       "Name: count, dtype: int64"
      ]
     },
     "execution_count": 20,
     "metadata": {},
     "output_type": "execute_result"
    }
   ],
   "source": [
    "df[\"sex\"].value_counts()"
   ]
  },
  {
   "cell_type": "markdown",
   "id": "36813d58",
   "metadata": {},
   "source": [
    "### Label Encording"
   ]
  },
  {
   "cell_type": "code",
   "execution_count": 21,
   "id": "58b4f92a",
   "metadata": {},
   "outputs": [
    {
     "data": {
      "text/html": [
       "<div>\n",
       "<style scoped>\n",
       "    .dataframe tbody tr th:only-of-type {\n",
       "        vertical-align: middle;\n",
       "    }\n",
       "\n",
       "    .dataframe tbody tr th {\n",
       "        vertical-align: top;\n",
       "    }\n",
       "\n",
       "    .dataframe thead th {\n",
       "        text-align: right;\n",
       "    }\n",
       "</style>\n",
       "<table border=\"1\" class=\"dataframe\">\n",
       "  <thead>\n",
       "    <tr style=\"text-align: right;\">\n",
       "      <th></th>\n",
       "      <th>age</th>\n",
       "      <th>sex</th>\n",
       "      <th>bmi</th>\n",
       "      <th>children</th>\n",
       "      <th>smoker</th>\n",
       "      <th>region</th>\n",
       "      <th>charges</th>\n",
       "    </tr>\n",
       "  </thead>\n",
       "  <tbody>\n",
       "    <tr>\n",
       "      <th>0</th>\n",
       "      <td>19</td>\n",
       "      <td>female</td>\n",
       "      <td>27.900</td>\n",
       "      <td>0</td>\n",
       "      <td>yes</td>\n",
       "      <td>southwest</td>\n",
       "      <td>16884.92400</td>\n",
       "    </tr>\n",
       "    <tr>\n",
       "      <th>1</th>\n",
       "      <td>18</td>\n",
       "      <td>male</td>\n",
       "      <td>33.770</td>\n",
       "      <td>1</td>\n",
       "      <td>no</td>\n",
       "      <td>southeast</td>\n",
       "      <td>1725.55230</td>\n",
       "    </tr>\n",
       "    <tr>\n",
       "      <th>2</th>\n",
       "      <td>28</td>\n",
       "      <td>male</td>\n",
       "      <td>33.000</td>\n",
       "      <td>3</td>\n",
       "      <td>no</td>\n",
       "      <td>southeast</td>\n",
       "      <td>4449.46200</td>\n",
       "    </tr>\n",
       "    <tr>\n",
       "      <th>3</th>\n",
       "      <td>33</td>\n",
       "      <td>male</td>\n",
       "      <td>22.705</td>\n",
       "      <td>0</td>\n",
       "      <td>no</td>\n",
       "      <td>northwest</td>\n",
       "      <td>21984.47061</td>\n",
       "    </tr>\n",
       "    <tr>\n",
       "      <th>4</th>\n",
       "      <td>32</td>\n",
       "      <td>male</td>\n",
       "      <td>28.880</td>\n",
       "      <td>0</td>\n",
       "      <td>no</td>\n",
       "      <td>northwest</td>\n",
       "      <td>3866.85520</td>\n",
       "    </tr>\n",
       "  </tbody>\n",
       "</table>\n",
       "</div>"
      ],
      "text/plain": [
       "   age     sex     bmi  children smoker     region      charges\n",
       "0   19  female  27.900         0    yes  southwest  16884.92400\n",
       "1   18    male  33.770         1     no  southeast   1725.55230\n",
       "2   28    male  33.000         3     no  southeast   4449.46200\n",
       "3   33    male  22.705         0     no  northwest  21984.47061\n",
       "4   32    male  28.880         0     no  northwest   3866.85520"
      ]
     },
     "execution_count": 21,
     "metadata": {},
     "output_type": "execute_result"
    }
   ],
   "source": [
    "df.head()"
   ]
  },
  {
   "cell_type": "code",
   "execution_count": 22,
   "id": "65bc8c13",
   "metadata": {},
   "outputs": [],
   "source": [
    "from sklearn.preprocessing import LabelEncoder"
   ]
  },
  {
   "cell_type": "code",
   "execution_count": 23,
   "id": "6fe99e24",
   "metadata": {},
   "outputs": [
    {
     "name": "stdout",
     "output_type": "stream",
     "text": [
      "Mapping for sex: {'female': 0, 'male': 1}\n",
      "Mapping for smoker: {'no': 0, 'yes': 1}\n",
      "Mapping for region: {'northeast': 0, 'northwest': 1, 'southeast': 2, 'southwest': 3}\n"
     ]
    }
   ],
   "source": [
    "cat_feature = [\"sex\", \"smoker\", \"region\"]\n",
    "\n",
    "for feature in cat_feature:\n",
    "    encode = LabelEncoder()\n",
    "    encoded_data = encode.fit_transform(df[feature])\n",
    "    df[feature] = encoded_data\n",
    "\n",
    "    mapping = dict(zip(encode.classes_, encode.transform(encode.classes_)))\n",
    "    print(f\"Mapping for {feature}: {mapping}\")"
   ]
  },
  {
   "cell_type": "code",
   "execution_count": 24,
   "id": "910cbff1",
   "metadata": {},
   "outputs": [
    {
     "data": {
      "text/html": [
       "<div>\n",
       "<style scoped>\n",
       "    .dataframe tbody tr th:only-of-type {\n",
       "        vertical-align: middle;\n",
       "    }\n",
       "\n",
       "    .dataframe tbody tr th {\n",
       "        vertical-align: top;\n",
       "    }\n",
       "\n",
       "    .dataframe thead th {\n",
       "        text-align: right;\n",
       "    }\n",
       "</style>\n",
       "<table border=\"1\" class=\"dataframe\">\n",
       "  <thead>\n",
       "    <tr style=\"text-align: right;\">\n",
       "      <th></th>\n",
       "      <th>age</th>\n",
       "      <th>sex</th>\n",
       "      <th>bmi</th>\n",
       "      <th>children</th>\n",
       "      <th>smoker</th>\n",
       "      <th>region</th>\n",
       "      <th>charges</th>\n",
       "    </tr>\n",
       "  </thead>\n",
       "  <tbody>\n",
       "    <tr>\n",
       "      <th>0</th>\n",
       "      <td>19</td>\n",
       "      <td>0</td>\n",
       "      <td>27.900</td>\n",
       "      <td>0</td>\n",
       "      <td>1</td>\n",
       "      <td>3</td>\n",
       "      <td>16884.92400</td>\n",
       "    </tr>\n",
       "    <tr>\n",
       "      <th>1</th>\n",
       "      <td>18</td>\n",
       "      <td>1</td>\n",
       "      <td>33.770</td>\n",
       "      <td>1</td>\n",
       "      <td>0</td>\n",
       "      <td>2</td>\n",
       "      <td>1725.55230</td>\n",
       "    </tr>\n",
       "    <tr>\n",
       "      <th>2</th>\n",
       "      <td>28</td>\n",
       "      <td>1</td>\n",
       "      <td>33.000</td>\n",
       "      <td>3</td>\n",
       "      <td>0</td>\n",
       "      <td>2</td>\n",
       "      <td>4449.46200</td>\n",
       "    </tr>\n",
       "    <tr>\n",
       "      <th>3</th>\n",
       "      <td>33</td>\n",
       "      <td>1</td>\n",
       "      <td>22.705</td>\n",
       "      <td>0</td>\n",
       "      <td>0</td>\n",
       "      <td>1</td>\n",
       "      <td>21984.47061</td>\n",
       "    </tr>\n",
       "    <tr>\n",
       "      <th>4</th>\n",
       "      <td>32</td>\n",
       "      <td>1</td>\n",
       "      <td>28.880</td>\n",
       "      <td>0</td>\n",
       "      <td>0</td>\n",
       "      <td>1</td>\n",
       "      <td>3866.85520</td>\n",
       "    </tr>\n",
       "  </tbody>\n",
       "</table>\n",
       "</div>"
      ],
      "text/plain": [
       "   age  sex     bmi  children  smoker  region      charges\n",
       "0   19    0  27.900         0       1       3  16884.92400\n",
       "1   18    1  33.770         1       0       2   1725.55230\n",
       "2   28    1  33.000         3       0       2   4449.46200\n",
       "3   33    1  22.705         0       0       1  21984.47061\n",
       "4   32    1  28.880         0       0       1   3866.85520"
      ]
     },
     "execution_count": 24,
     "metadata": {},
     "output_type": "execute_result"
    }
   ],
   "source": [
    "df.head()"
   ]
  },
  {
   "cell_type": "markdown",
   "id": "f3dcdda3",
   "metadata": {},
   "source": [
    "### Spilt dataset"
   ]
  },
  {
   "cell_type": "code",
   "execution_count": 25,
   "id": "12481b39",
   "metadata": {},
   "outputs": [],
   "source": [
    "# Split data into x and y\n",
    "X = df.drop(\"charges\",axis=1)\n",
    "y = df[\"charges\"]"
   ]
  },
  {
   "cell_type": "markdown",
   "id": "9f91e928",
   "metadata": {},
   "source": [
    "### Feature Scaling"
   ]
  },
  {
   "cell_type": "code",
   "execution_count": 26,
   "id": "06eb9e80",
   "metadata": {},
   "outputs": [],
   "source": [
    "from sklearn.preprocessing import StandardScaler\n",
    "\n",
    "scaler = StandardScaler()\n",
    "standerd_X = scaler.fit_transform(X)\n",
    "X = pd.DataFrame(standerd_X, columns=X.columns)\n"
   ]
  },
  {
   "cell_type": "code",
   "execution_count": 27,
   "id": "43864fe9",
   "metadata": {},
   "outputs": [
    {
     "data": {
      "text/html": [
       "<div>\n",
       "<style scoped>\n",
       "    .dataframe tbody tr th:only-of-type {\n",
       "        vertical-align: middle;\n",
       "    }\n",
       "\n",
       "    .dataframe tbody tr th {\n",
       "        vertical-align: top;\n",
       "    }\n",
       "\n",
       "    .dataframe thead th {\n",
       "        text-align: right;\n",
       "    }\n",
       "</style>\n",
       "<table border=\"1\" class=\"dataframe\">\n",
       "  <thead>\n",
       "    <tr style=\"text-align: right;\">\n",
       "      <th></th>\n",
       "      <th>age</th>\n",
       "      <th>sex</th>\n",
       "      <th>bmi</th>\n",
       "      <th>children</th>\n",
       "      <th>smoker</th>\n",
       "      <th>region</th>\n",
       "    </tr>\n",
       "  </thead>\n",
       "  <tbody>\n",
       "    <tr>\n",
       "      <th>0</th>\n",
       "      <td>-1.438764</td>\n",
       "      <td>-1.010519</td>\n",
       "      <td>-0.453320</td>\n",
       "      <td>-0.908614</td>\n",
       "      <td>1.970587</td>\n",
       "      <td>1.343905</td>\n",
       "    </tr>\n",
       "    <tr>\n",
       "      <th>1</th>\n",
       "      <td>-1.509965</td>\n",
       "      <td>0.989591</td>\n",
       "      <td>0.509621</td>\n",
       "      <td>-0.078767</td>\n",
       "      <td>-0.507463</td>\n",
       "      <td>0.438495</td>\n",
       "    </tr>\n",
       "    <tr>\n",
       "      <th>2</th>\n",
       "      <td>-0.797954</td>\n",
       "      <td>0.989591</td>\n",
       "      <td>0.383307</td>\n",
       "      <td>1.580926</td>\n",
       "      <td>-0.507463</td>\n",
       "      <td>0.438495</td>\n",
       "    </tr>\n",
       "    <tr>\n",
       "      <th>3</th>\n",
       "      <td>-0.441948</td>\n",
       "      <td>0.989591</td>\n",
       "      <td>-1.305531</td>\n",
       "      <td>-0.908614</td>\n",
       "      <td>-0.507463</td>\n",
       "      <td>-0.466915</td>\n",
       "    </tr>\n",
       "    <tr>\n",
       "      <th>4</th>\n",
       "      <td>-0.513149</td>\n",
       "      <td>0.989591</td>\n",
       "      <td>-0.292556</td>\n",
       "      <td>-0.908614</td>\n",
       "      <td>-0.507463</td>\n",
       "      <td>-0.466915</td>\n",
       "    </tr>\n",
       "  </tbody>\n",
       "</table>\n",
       "</div>"
      ],
      "text/plain": [
       "        age       sex       bmi  children    smoker    region\n",
       "0 -1.438764 -1.010519 -0.453320 -0.908614  1.970587  1.343905\n",
       "1 -1.509965  0.989591  0.509621 -0.078767 -0.507463  0.438495\n",
       "2 -0.797954  0.989591  0.383307  1.580926 -0.507463  0.438495\n",
       "3 -0.441948  0.989591 -1.305531 -0.908614 -0.507463 -0.466915\n",
       "4 -0.513149  0.989591 -0.292556 -0.908614 -0.507463 -0.466915"
      ]
     },
     "execution_count": 27,
     "metadata": {},
     "output_type": "execute_result"
    }
   ],
   "source": [
    "X.head()"
   ]
  },
  {
   "cell_type": "code",
   "execution_count": 28,
   "id": "2fa50286",
   "metadata": {},
   "outputs": [],
   "source": [
    "# Split data into train and test sets\n",
    "x_train,x_test,y_train,y_test = train_test_split(X,y,test_size=0.2, random_state=32)"
   ]
  },
  {
   "cell_type": "code",
   "execution_count": 29,
   "id": "1d935cb0",
   "metadata": {},
   "outputs": [
    {
     "data": {
      "text/html": [
       "<div>\n",
       "<style scoped>\n",
       "    .dataframe tbody tr th:only-of-type {\n",
       "        vertical-align: middle;\n",
       "    }\n",
       "\n",
       "    .dataframe tbody tr th {\n",
       "        vertical-align: top;\n",
       "    }\n",
       "\n",
       "    .dataframe thead th {\n",
       "        text-align: right;\n",
       "    }\n",
       "</style>\n",
       "<table border=\"1\" class=\"dataframe\">\n",
       "  <thead>\n",
       "    <tr style=\"text-align: right;\">\n",
       "      <th></th>\n",
       "      <th>age</th>\n",
       "      <th>sex</th>\n",
       "      <th>bmi</th>\n",
       "      <th>children</th>\n",
       "      <th>smoker</th>\n",
       "      <th>region</th>\n",
       "    </tr>\n",
       "  </thead>\n",
       "  <tbody>\n",
       "    <tr>\n",
       "      <th>280</th>\n",
       "      <td>0.056461</td>\n",
       "      <td>-1.010519</td>\n",
       "      <td>-0.417230</td>\n",
       "      <td>-0.078767</td>\n",
       "      <td>1.970587</td>\n",
       "      <td>-1.372326</td>\n",
       "    </tr>\n",
       "    <tr>\n",
       "      <th>679</th>\n",
       "      <td>0.697271</td>\n",
       "      <td>-1.010519</td>\n",
       "      <td>-1.227610</td>\n",
       "      <td>0.751079</td>\n",
       "      <td>-0.507463</td>\n",
       "      <td>-0.466915</td>\n",
       "    </tr>\n",
       "    <tr>\n",
       "      <th>172</th>\n",
       "      <td>-1.509965</td>\n",
       "      <td>0.989591</td>\n",
       "      <td>-2.412011</td>\n",
       "      <td>-0.908614</td>\n",
       "      <td>-0.507463</td>\n",
       "      <td>-1.372326</td>\n",
       "    </tr>\n",
       "    <tr>\n",
       "      <th>45</th>\n",
       "      <td>1.124479</td>\n",
       "      <td>0.989591</td>\n",
       "      <td>1.088698</td>\n",
       "      <td>-0.908614</td>\n",
       "      <td>-0.507463</td>\n",
       "      <td>1.343905</td>\n",
       "    </tr>\n",
       "    <tr>\n",
       "      <th>330</th>\n",
       "      <td>1.551686</td>\n",
       "      <td>-1.010519</td>\n",
       "      <td>0.938597</td>\n",
       "      <td>-0.078767</td>\n",
       "      <td>1.970587</td>\n",
       "      <td>-1.372326</td>\n",
       "    </tr>\n",
       "    <tr>\n",
       "      <th>...</th>\n",
       "      <td>...</td>\n",
       "      <td>...</td>\n",
       "      <td>...</td>\n",
       "      <td>...</td>\n",
       "      <td>...</td>\n",
       "      <td>...</td>\n",
       "    </tr>\n",
       "    <tr>\n",
       "      <th>252</th>\n",
       "      <td>1.053277</td>\n",
       "      <td>0.989591</td>\n",
       "      <td>0.581801</td>\n",
       "      <td>0.751079</td>\n",
       "      <td>1.970587</td>\n",
       "      <td>0.438495</td>\n",
       "    </tr>\n",
       "    <tr>\n",
       "      <th>88</th>\n",
       "      <td>0.483668</td>\n",
       "      <td>-1.010519</td>\n",
       "      <td>-0.479567</td>\n",
       "      <td>-0.908614</td>\n",
       "      <td>-0.507463</td>\n",
       "      <td>-0.466915</td>\n",
       "    </tr>\n",
       "    <tr>\n",
       "      <th>892</th>\n",
       "      <td>1.053277</td>\n",
       "      <td>0.989591</td>\n",
       "      <td>-1.087352</td>\n",
       "      <td>-0.908614</td>\n",
       "      <td>-0.507463</td>\n",
       "      <td>-1.372326</td>\n",
       "    </tr>\n",
       "    <tr>\n",
       "      <th>1334</th>\n",
       "      <td>-1.509965</td>\n",
       "      <td>-1.010519</td>\n",
       "      <td>0.206139</td>\n",
       "      <td>-0.908614</td>\n",
       "      <td>-0.507463</td>\n",
       "      <td>-1.372326</td>\n",
       "    </tr>\n",
       "    <tr>\n",
       "      <th>727</th>\n",
       "      <td>-0.726752</td>\n",
       "      <td>-1.010519</td>\n",
       "      <td>-1.461373</td>\n",
       "      <td>-0.078767</td>\n",
       "      <td>1.970587</td>\n",
       "      <td>-1.372326</td>\n",
       "    </tr>\n",
       "  </tbody>\n",
       "</table>\n",
       "<p>1070 rows × 6 columns</p>\n",
       "</div>"
      ],
      "text/plain": [
       "           age       sex       bmi  children    smoker    region\n",
       "280   0.056461 -1.010519 -0.417230 -0.078767  1.970587 -1.372326\n",
       "679   0.697271 -1.010519 -1.227610  0.751079 -0.507463 -0.466915\n",
       "172  -1.509965  0.989591 -2.412011 -0.908614 -0.507463 -1.372326\n",
       "45    1.124479  0.989591  1.088698 -0.908614 -0.507463  1.343905\n",
       "330   1.551686 -1.010519  0.938597 -0.078767  1.970587 -1.372326\n",
       "...        ...       ...       ...       ...       ...       ...\n",
       "252   1.053277  0.989591  0.581801  0.751079  1.970587  0.438495\n",
       "88    0.483668 -1.010519 -0.479567 -0.908614 -0.507463 -0.466915\n",
       "892   1.053277  0.989591 -1.087352 -0.908614 -0.507463 -1.372326\n",
       "1334 -1.509965 -1.010519  0.206139 -0.908614 -0.507463 -1.372326\n",
       "727  -0.726752 -1.010519 -1.461373 -0.078767  1.970587 -1.372326\n",
       "\n",
       "[1070 rows x 6 columns]"
      ]
     },
     "execution_count": 29,
     "metadata": {},
     "output_type": "execute_result"
    }
   ],
   "source": [
    "x_train"
   ]
  },
  {
   "cell_type": "code",
   "execution_count": 30,
   "id": "2cfa3b52",
   "metadata": {},
   "outputs": [
    {
     "data": {
      "text/plain": [
       "280     22331.56680\n",
       "679     10156.78320\n",
       "172      1694.79640\n",
       "45      20630.28351\n",
       "330     48517.56315\n",
       "           ...     \n",
       "252     44260.74990\n",
       "88       8026.66660\n",
       "892     10422.91665\n",
       "1334     2205.98080\n",
       "727     16657.71745\n",
       "Name: charges, Length: 1070, dtype: float64"
      ]
     },
     "execution_count": 30,
     "metadata": {},
     "output_type": "execute_result"
    }
   ],
   "source": [
    "y_train\n"
   ]
  },
  {
   "cell_type": "markdown",
   "id": "7c92540a",
   "metadata": {},
   "source": [
    "### Model"
   ]
  },
  {
   "cell_type": "code",
   "execution_count": 55,
   "id": "5c0ca53d",
   "metadata": {},
   "outputs": [],
   "source": [
    "from sklearn.ensemble import RandomForestRegressor"
   ]
  },
  {
   "cell_type": "code",
   "execution_count": 56,
   "id": "6eef0472",
   "metadata": {},
   "outputs": [
    {
     "data": {
      "text/html": [
       "<style>#sk-container-id-4 {color: black;}#sk-container-id-4 pre{padding: 0;}#sk-container-id-4 div.sk-toggleable {background-color: white;}#sk-container-id-4 label.sk-toggleable__label {cursor: pointer;display: block;width: 100%;margin-bottom: 0;padding: 0.3em;box-sizing: border-box;text-align: center;}#sk-container-id-4 label.sk-toggleable__label-arrow:before {content: \"▸\";float: left;margin-right: 0.25em;color: #696969;}#sk-container-id-4 label.sk-toggleable__label-arrow:hover:before {color: black;}#sk-container-id-4 div.sk-estimator:hover label.sk-toggleable__label-arrow:before {color: black;}#sk-container-id-4 div.sk-toggleable__content {max-height: 0;max-width: 0;overflow: hidden;text-align: left;background-color: #f0f8ff;}#sk-container-id-4 div.sk-toggleable__content pre {margin: 0.2em;color: black;border-radius: 0.25em;background-color: #f0f8ff;}#sk-container-id-4 input.sk-toggleable__control:checked~div.sk-toggleable__content {max-height: 200px;max-width: 100%;overflow: auto;}#sk-container-id-4 input.sk-toggleable__control:checked~label.sk-toggleable__label-arrow:before {content: \"▾\";}#sk-container-id-4 div.sk-estimator input.sk-toggleable__control:checked~label.sk-toggleable__label {background-color: #d4ebff;}#sk-container-id-4 div.sk-label input.sk-toggleable__control:checked~label.sk-toggleable__label {background-color: #d4ebff;}#sk-container-id-4 input.sk-hidden--visually {border: 0;clip: rect(1px 1px 1px 1px);clip: rect(1px, 1px, 1px, 1px);height: 1px;margin: -1px;overflow: hidden;padding: 0;position: absolute;width: 1px;}#sk-container-id-4 div.sk-estimator {font-family: monospace;background-color: #f0f8ff;border: 1px dotted black;border-radius: 0.25em;box-sizing: border-box;margin-bottom: 0.5em;}#sk-container-id-4 div.sk-estimator:hover {background-color: #d4ebff;}#sk-container-id-4 div.sk-parallel-item::after {content: \"\";width: 100%;border-bottom: 1px solid gray;flex-grow: 1;}#sk-container-id-4 div.sk-label:hover label.sk-toggleable__label {background-color: #d4ebff;}#sk-container-id-4 div.sk-serial::before {content: \"\";position: absolute;border-left: 1px solid gray;box-sizing: border-box;top: 0;bottom: 0;left: 50%;z-index: 0;}#sk-container-id-4 div.sk-serial {display: flex;flex-direction: column;align-items: center;background-color: white;padding-right: 0.2em;padding-left: 0.2em;position: relative;}#sk-container-id-4 div.sk-item {position: relative;z-index: 1;}#sk-container-id-4 div.sk-parallel {display: flex;align-items: stretch;justify-content: center;background-color: white;position: relative;}#sk-container-id-4 div.sk-item::before, #sk-container-id-4 div.sk-parallel-item::before {content: \"\";position: absolute;border-left: 1px solid gray;box-sizing: border-box;top: 0;bottom: 0;left: 50%;z-index: -1;}#sk-container-id-4 div.sk-parallel-item {display: flex;flex-direction: column;z-index: 1;position: relative;background-color: white;}#sk-container-id-4 div.sk-parallel-item:first-child::after {align-self: flex-end;width: 50%;}#sk-container-id-4 div.sk-parallel-item:last-child::after {align-self: flex-start;width: 50%;}#sk-container-id-4 div.sk-parallel-item:only-child::after {width: 0;}#sk-container-id-4 div.sk-dashed-wrapped {border: 1px dashed gray;margin: 0 0.4em 0.5em 0.4em;box-sizing: border-box;padding-bottom: 0.4em;background-color: white;}#sk-container-id-4 div.sk-label label {font-family: monospace;font-weight: bold;display: inline-block;line-height: 1.2em;}#sk-container-id-4 div.sk-label-container {text-align: center;}#sk-container-id-4 div.sk-container {/* jupyter's `normalize.less` sets `[hidden] { display: none; }` but bootstrap.min.css set `[hidden] { display: none !important; }` so we also need the `!important` here to be able to override the default hidden behavior on the sphinx rendered scikit-learn.org. See: https://github.com/scikit-learn/scikit-learn/issues/21755 */display: inline-block !important;position: relative;}#sk-container-id-4 div.sk-text-repr-fallback {display: none;}</style><div id=\"sk-container-id-4\" class=\"sk-top-container\"><div class=\"sk-text-repr-fallback\"><pre>RandomForestRegressor()</pre><b>In a Jupyter environment, please rerun this cell to show the HTML representation or trust the notebook. <br />On GitHub, the HTML representation is unable to render, please try loading this page with nbviewer.org.</b></div><div class=\"sk-container\" hidden><div class=\"sk-item\"><div class=\"sk-estimator sk-toggleable\"><input class=\"sk-toggleable__control sk-hidden--visually\" id=\"sk-estimator-id-4\" type=\"checkbox\" checked><label for=\"sk-estimator-id-4\" class=\"sk-toggleable__label sk-toggleable__label-arrow\">RandomForestRegressor</label><div class=\"sk-toggleable__content\"><pre>RandomForestRegressor()</pre></div></div></div></div></div>"
      ],
      "text/plain": [
       "RandomForestRegressor()"
      ]
     },
     "execution_count": 56,
     "metadata": {},
     "output_type": "execute_result"
    }
   ],
   "source": [
    "model_rf = RandomForestRegressor()\n",
    "\n",
    "model_rf.fit(x_train,y_train)"
   ]
  },
  {
   "cell_type": "markdown",
   "id": "1a4dc303",
   "metadata": {},
   "source": [
    "### Evaluation"
   ]
  },
  {
   "cell_type": "code",
   "execution_count": 57,
   "id": "cc95e710",
   "metadata": {},
   "outputs": [],
   "source": [
    "y_preds = model_rf.predict(x_test)"
   ]
  },
  {
   "cell_type": "code",
   "execution_count": 58,
   "id": "421c5364",
   "metadata": {},
   "outputs": [
    {
     "data": {
      "text/plain": [
       "array([17157.4479097 , 17004.1673753 ,  5222.9370275 , 19271.1412972 ,\n",
       "       10962.5639065 ,  2954.7614751 , 44346.4206385 ,  4365.1545498 ,\n",
       "        6004.632183  , 10136.6696435 ,  3775.5541821 ,  4474.3364062 ,\n",
       "       14730.7035749 , 47737.4917155 ,  9775.2821819 , 43145.0184318 ,\n",
       "       12215.9474831 , 11360.7290154 , 10242.8698752 , 16214.1627635 ,\n",
       "        6712.9086305 , 15203.26833   , 14692.3574912 ,  5612.8448877 ,\n",
       "       44741.6492908 ,  2609.856456  ,  7649.3317982 , 17091.2125453 ,\n",
       "       10772.4450364 , 20400.122183  ,  2374.3384998 ,  7883.0258575 ,\n",
       "       13681.901603  , 14526.1121869 ,  9322.4958172 , 40062.0935365 ,\n",
       "        7095.3458454 ,  4347.5595873 , 27387.7184848 , 19303.0381521 ,\n",
       "        8182.5865224 ,  1632.011307  , 10065.9547526 ,  1945.927683  ,\n",
       "        4908.9292564 ,  9446.3384008 ,  6294.5504549 , 12133.4883677 ,\n",
       "       15552.354702  , 35909.7029158 , 16981.5727818 , 46788.6965716 ,\n",
       "        4584.617034  ,  4098.9703872 , 16916.1490383 , 17568.242848  ,\n",
       "        2573.599986  , 10012.7743493 , 12769.192926  , 16802.9041706 ,\n",
       "       39423.692166  ,  4479.3209188 ,  6728.1238864 ,  1248.509603  ,\n",
       "       12374.1054116 , 14233.3148598 , 11444.2503089 , 19643.7175426 ,\n",
       "       18592.4310063 ,  1560.1246596 , 11583.1295475 ,  7105.4464218 ,\n",
       "       11288.4324316 ,  3364.2603699 ,  4442.1373665 , 12384.7027107 ,\n",
       "       20188.3491905 , 12647.2020149 , 23419.6497182 , 15981.9232455 ,\n",
       "        8871.1423883 ,  4214.8875481 ,  3273.334102  ,  9366.2296655 ,\n",
       "        1806.09894583,  6730.8206296 , 15832.6367011 , 11548.6083003 ,\n",
       "       11043.8766306 , 18879.6871078 , 12596.4697158 ,  1707.2023665 ,\n",
       "        6319.4155653 ,  2436.203226  , 17121.6926212 , 11386.128481  ,\n",
       "       10165.3473239 ,  4648.274471  , 12494.8101411 ,  3605.4483683 ,\n",
       "        6466.3251962 , 39016.5568677 , 45610.416142  ,  6954.3766405 ,\n",
       "       11917.0272835 ,  5475.6605568 ,  8445.4754088 ,  7226.975353  ,\n",
       "       13541.9248665 ,  2942.4677648 ,  6658.3932023 , 16504.4475909 ,\n",
       "       23147.3311078 , 14992.8023404 , 12064.1273951 , 14276.912187  ,\n",
       "       14374.8092487 ,  1963.4582575 , 47762.0171382 , 40951.8568177 ,\n",
       "       38042.3850078 ,  9212.6112788 , 10907.7758098 ,  6031.6486035 ,\n",
       "       17546.152796  ,  3767.6119115 , 17809.7726812 , 26808.812803  ,\n",
       "       49057.5231421 ,  6664.4101815 , 17184.6578903 , 10667.379967  ,\n",
       "        2825.6556017 ,  7858.1968893 ,  9246.8077496 ,  5964.3269649 ,\n",
       "       12749.5033357 ,  5150.36854008,  6598.9435159 ,  4787.9717008 ,\n",
       "        2490.6591085 , 15273.6855621 ,  9670.7134867 , 47739.9325856 ,\n",
       "        6235.638909  , 13672.8675281 , 13375.5057347 , 14011.9155462 ,\n",
       "       17827.1796612 ,  7951.4955094 , 37935.966846  , 14570.8907576 ,\n",
       "       20165.1083548 , 12189.1682861 ,  2398.5318113 ,  6252.2578848 ,\n",
       "        4342.3605059 , 12931.4631308 , 11614.6638045 ,  8604.4220817 ,\n",
       "        9123.5785522 , 12267.1510606 , 22628.481424  ,  3456.8881875 ,\n",
       "       43925.7242863 , 12359.0804225 , 14481.8022208 ,  2338.9934434 ,\n",
       "        2061.791171  ,  9892.854362  ,  4279.1693404 , 16389.7900835 ,\n",
       "        6958.2483225 ,  4747.2755672 , 12961.7957063 , 40916.3117779 ,\n",
       "        6046.4537215 ,  6154.103024  ,  3291.3643457 ,  4279.3559595 ,\n",
       "       15261.5459817 ,  6857.2857801 , 13277.2873535 ,  3908.1479499 ,\n",
       "       11572.1032148 ,  6596.4576325 , 18481.8593447 , 10416.9784459 ,\n",
       "        9425.3250275 ,  7671.5276753 ,  4408.109645  , 15031.0188817 ,\n",
       "       33651.848124  , 11574.4058793 ,  3176.880735  ,  2026.9705571 ,\n",
       "        9623.528845  ,  1933.9629778 , 22544.815671  ,  6541.8063322 ,\n",
       "       10009.504117  , 13857.6046702 , 15847.6553569 ,  4726.8447458 ,\n",
       "        7699.083182  , 12347.2028507 , 13590.1626929 , 16253.2287119 ,\n",
       "       28675.9500223 , 12934.2364446 , 17064.9177746 , 12549.6812001 ,\n",
       "        1720.717309  ,  5322.7499312 ,  4843.058841  ,  6196.7168145 ,\n",
       "       48801.3147129 , 19606.7046504 ,  5109.8528505 , 46641.5150091 ,\n",
       "       11829.7752887 ,  8822.3285185 ,  2281.1206595 ,  8988.7337631 ,\n",
       "       17038.3372318 , 41323.3791895 , 11233.4243074 ,  6618.1606129 ,\n",
       "        1628.82362   , 38811.9638644 , 13942.7085297 , 16880.2424327 ,\n",
       "       14115.5656334 ,  7599.242705  ,  8077.4927579 ,  8861.8246472 ,\n",
       "        3742.578369  , 40975.881095  , 10940.9135704 ,  6513.544472  ,\n",
       "        8204.2134213 ,  4616.1411648 , 39977.5066181 ,  3796.221137  ,\n",
       "       14223.7791929 ,  4370.1482854 , 14314.2273648 , 15432.9048552 ,\n",
       "       40599.5044267 ,  7711.7731577 , 10220.6403975 , 20351.869077  ,\n",
       "        3520.142153  ,  2692.8600661 , 34484.4087411 , 14165.2448576 ,\n",
       "       10579.5016994 , 21791.3983045 , 21535.2255989 , 21272.6728189 ,\n",
       "       14652.2002532 , 17286.2873467 ,  6438.9712734 , 12593.6539277 ,\n",
       "        4503.3988791 , 39618.2863692 , 15060.3413664 , 15314.9372078 ])"
      ]
     },
     "execution_count": 58,
     "metadata": {},
     "output_type": "execute_result"
    }
   ],
   "source": [
    "y_preds"
   ]
  },
  {
   "cell_type": "code",
   "execution_count": 59,
   "id": "42b60801",
   "metadata": {},
   "outputs": [
    {
     "data": {
      "text/plain": [
       "22694239.651255723"
      ]
     },
     "execution_count": 59,
     "metadata": {},
     "output_type": "execute_result"
    }
   ],
   "source": [
    "mse = mean_squared_error(y_test, y_preds)\n",
    "mse"
   ]
  },
  {
   "cell_type": "code",
   "execution_count": 60,
   "id": "3081b512",
   "metadata": {},
   "outputs": [
    {
     "data": {
      "text/plain": [
       "2679.480236318471"
      ]
     },
     "execution_count": 60,
     "metadata": {},
     "output_type": "execute_result"
    }
   ],
   "source": [
    "mae = mean_absolute_error(y_test, y_preds)\n",
    "mae"
   ]
  },
  {
   "cell_type": "code",
   "execution_count": 61,
   "id": "4bce1a5d",
   "metadata": {},
   "outputs": [
    {
     "data": {
      "text/plain": [
       "0.8323629108291346"
      ]
     },
     "execution_count": 61,
     "metadata": {},
     "output_type": "execute_result"
    }
   ],
   "source": [
    "r2 = r2_score(y_test, y_preds)\n",
    "r2"
   ]
  },
  {
   "cell_type": "code",
   "execution_count": 62,
   "id": "07eff6e6",
   "metadata": {},
   "outputs": [],
   "source": [
    "import pickle"
   ]
  },
  {
   "cell_type": "code",
   "execution_count": 63,
   "id": "8dacef2a",
   "metadata": {},
   "outputs": [],
   "source": [
    "with open(\"model/model_2.pkl\", \"wb\") as f:\n",
    "    pickle.dump(model_rf, f)"
   ]
  },
  {
   "cell_type": "code",
   "execution_count": 64,
   "id": "724d0048",
   "metadata": {},
   "outputs": [],
   "source": [
    "## Load model\n",
    "\n",
    "with open(\"model/model_2.pkl\", \"rb\") as f:\n",
    "    model = pickle.load(f)"
   ]
  },
  {
   "cell_type": "markdown",
   "id": "e33a2e14",
   "metadata": {},
   "source": [
    "gender\tage\thypertension\theart_disease\tsmoking_history\tbmi\tHbA1c_level\tblood_glucose_level"
   ]
  },
  {
   "cell_type": "code",
   "execution_count": 65,
   "id": "d62e9ea8",
   "metadata": {},
   "outputs": [
    {
     "data": {
      "text/html": [
       "<div>\n",
       "<style scoped>\n",
       "    .dataframe tbody tr th:only-of-type {\n",
       "        vertical-align: middle;\n",
       "    }\n",
       "\n",
       "    .dataframe tbody tr th {\n",
       "        vertical-align: top;\n",
       "    }\n",
       "\n",
       "    .dataframe thead th {\n",
       "        text-align: right;\n",
       "    }\n",
       "</style>\n",
       "<table border=\"1\" class=\"dataframe\">\n",
       "  <thead>\n",
       "    <tr style=\"text-align: right;\">\n",
       "      <th></th>\n",
       "      <th>age</th>\n",
       "      <th>sex</th>\n",
       "      <th>bmi</th>\n",
       "      <th>children</th>\n",
       "      <th>smoker</th>\n",
       "      <th>region</th>\n",
       "      <th>charges</th>\n",
       "    </tr>\n",
       "  </thead>\n",
       "  <tbody>\n",
       "    <tr>\n",
       "      <th>0</th>\n",
       "      <td>19</td>\n",
       "      <td>0</td>\n",
       "      <td>27.900</td>\n",
       "      <td>0</td>\n",
       "      <td>1</td>\n",
       "      <td>3</td>\n",
       "      <td>16884.92400</td>\n",
       "    </tr>\n",
       "    <tr>\n",
       "      <th>1</th>\n",
       "      <td>18</td>\n",
       "      <td>1</td>\n",
       "      <td>33.770</td>\n",
       "      <td>1</td>\n",
       "      <td>0</td>\n",
       "      <td>2</td>\n",
       "      <td>1725.55230</td>\n",
       "    </tr>\n",
       "    <tr>\n",
       "      <th>2</th>\n",
       "      <td>28</td>\n",
       "      <td>1</td>\n",
       "      <td>33.000</td>\n",
       "      <td>3</td>\n",
       "      <td>0</td>\n",
       "      <td>2</td>\n",
       "      <td>4449.46200</td>\n",
       "    </tr>\n",
       "    <tr>\n",
       "      <th>3</th>\n",
       "      <td>33</td>\n",
       "      <td>1</td>\n",
       "      <td>22.705</td>\n",
       "      <td>0</td>\n",
       "      <td>0</td>\n",
       "      <td>1</td>\n",
       "      <td>21984.47061</td>\n",
       "    </tr>\n",
       "    <tr>\n",
       "      <th>4</th>\n",
       "      <td>32</td>\n",
       "      <td>1</td>\n",
       "      <td>28.880</td>\n",
       "      <td>0</td>\n",
       "      <td>0</td>\n",
       "      <td>1</td>\n",
       "      <td>3866.85520</td>\n",
       "    </tr>\n",
       "  </tbody>\n",
       "</table>\n",
       "</div>"
      ],
      "text/plain": [
       "   age  sex     bmi  children  smoker  region      charges\n",
       "0   19    0  27.900         0       1       3  16884.92400\n",
       "1   18    1  33.770         1       0       2   1725.55230\n",
       "2   28    1  33.000         3       0       2   4449.46200\n",
       "3   33    1  22.705         0       0       1  21984.47061\n",
       "4   32    1  28.880         0       0       1   3866.85520"
      ]
     },
     "execution_count": 65,
     "metadata": {},
     "output_type": "execute_result"
    }
   ],
   "source": [
    "df.head()"
   ]
  },
  {
   "cell_type": "code",
   "execution_count": 66,
   "id": "2aa9449a",
   "metadata": {},
   "outputs": [],
   "source": [
    "## Example\n",
    "\n",
    "test_1 = {\n",
    "    \"age\": 27,\n",
    "    \"sex\" : 0,\n",
    "    \"bmi\" : 24,\n",
    "    \"children\" : 2,\n",
    "    \"smoker\": 1,\n",
    "    \"region\": 3\n",
    "}\n",
    "\n",
    "test_1 = pd.DataFrame([test_1])"
   ]
  },
  {
   "cell_type": "code",
   "execution_count": 67,
   "id": "98cd2b7b",
   "metadata": {},
   "outputs": [],
   "source": [
    "test_scaled = scaler.transform(test_1)\n",
    "test_1_df = pd.DataFrame(test_scaled, columns=test_1.columns)"
   ]
  },
  {
   "cell_type": "code",
   "execution_count": 68,
   "id": "fe93915b",
   "metadata": {},
   "outputs": [
    {
     "data": {
      "text/html": [
       "<div>\n",
       "<style scoped>\n",
       "    .dataframe tbody tr th:only-of-type {\n",
       "        vertical-align: middle;\n",
       "    }\n",
       "\n",
       "    .dataframe tbody tr th {\n",
       "        vertical-align: top;\n",
       "    }\n",
       "\n",
       "    .dataframe thead th {\n",
       "        text-align: right;\n",
       "    }\n",
       "</style>\n",
       "<table border=\"1\" class=\"dataframe\">\n",
       "  <thead>\n",
       "    <tr style=\"text-align: right;\">\n",
       "      <th></th>\n",
       "      <th>age</th>\n",
       "      <th>sex</th>\n",
       "      <th>bmi</th>\n",
       "      <th>children</th>\n",
       "      <th>smoker</th>\n",
       "      <th>region</th>\n",
       "    </tr>\n",
       "  </thead>\n",
       "  <tbody>\n",
       "    <tr>\n",
       "      <th>0</th>\n",
       "      <td>-0.869155</td>\n",
       "      <td>-1.010519</td>\n",
       "      <td>-1.093093</td>\n",
       "      <td>0.751079</td>\n",
       "      <td>1.970587</td>\n",
       "      <td>1.343905</td>\n",
       "    </tr>\n",
       "  </tbody>\n",
       "</table>\n",
       "</div>"
      ],
      "text/plain": [
       "        age       sex       bmi  children    smoker    region\n",
       "0 -0.869155 -1.010519 -1.093093  0.751079  1.970587  1.343905"
      ]
     },
     "execution_count": 68,
     "metadata": {},
     "output_type": "execute_result"
    }
   ],
   "source": [
    "test_1_df"
   ]
  },
  {
   "cell_type": "code",
   "execution_count": 72,
   "id": "1ff2e83c",
   "metadata": {},
   "outputs": [
    {
     "name": "stdout",
     "output_type": "stream",
     "text": [
      "Changes : 17365.48\n"
     ]
    }
   ],
   "source": [
    "result = model.predict(test_1_df)\n",
    "print(f\"Changes : {result[0]:.2f}\")"
   ]
  }
 ],
 "metadata": {
  "kernelspec": {
   "display_name": "venv",
   "language": "python",
   "name": "python3"
  },
  "language_info": {
   "codemirror_mode": {
    "name": "ipython",
    "version": 3
   },
   "file_extension": ".py",
   "mimetype": "text/x-python",
   "name": "python",
   "nbconvert_exporter": "python",
   "pygments_lexer": "ipython3",
   "version": "3.10.0"
  }
 },
 "nbformat": 4,
 "nbformat_minor": 5
}
